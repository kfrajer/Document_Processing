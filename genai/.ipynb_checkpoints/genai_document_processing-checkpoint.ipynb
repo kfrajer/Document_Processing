{
 "cells": [
  {
   "cell_type": "markdown",
   "id": "ambient-regard",
   "metadata": {},
   "source": [
    "# GenAI Document Processing: Expense processing:"
   ]
  },
  {
   "cell_type": "markdown",
   "id": "hidden-pursuit",
   "metadata": {},
   "source": [
    "Based on the AWS Blog: https://aws.amazon.com/blogs/machine-learning/intelligent-document-processing-using-amazon-bedrock-and-anthropic-claude/"
   ]
  },
  {
   "cell_type": "code",
   "execution_count": 17,
   "id": "boxed-analysis",
   "metadata": {},
   "outputs": [],
   "source": [
    "import boto3\n",
    "import json\n",
    "from PIL import Image\n",
    "import base64"
   ]
  },
  {
   "cell_type": "code",
   "execution_count": 20,
   "id": "major-spray",
   "metadata": {},
   "outputs": [],
   "source": [
    "s3 = boto3.client('s3')\n",
    "bedrock = boto3.client('bedrock-runtime', region_name='us-east-1')\n",
    "\n",
    "MODEL_ID = \"anthropic.claude-3-sonnet-20240229-v1:0\"\n"
   ]
  },
  {
   "cell_type": "code",
   "execution_count": 26,
   "id": "generous-dealing",
   "metadata": {},
   "outputs": [],
   "source": [
    "# image_data = s3.get_object(Bucket=bucket_name, Key=object_key)['Body'].read()\n",
    "\n",
    "image_file = \"./docs/test_invoice.png\"\n",
    "\n",
    "with open(image_file, \"rb\") as image:\n",
    "  img = image.read()\n",
    "  img_bytes = bytearray(img)\n",
    "\n",
    "base64_image = base64.b64encode(img_bytes).decode('utf-8')\n"
   ]
  },
  {
   "cell_type": "code",
   "execution_count": 27,
   "id": "fuzzy-warrant",
   "metadata": {},
   "outputs": [],
   "source": [
    "# prompt:\n",
    "\n",
    "prompt = \"\"\"\n",
    "This image shows a an invoice. \n",
    "Please precisely copy all the relevant information from the form.\n",
    "Leave the field blank if there is no information in corresponding field.\n",
    "If the image is not an invoice, simply return an empty JSON object. \n",
    "If the invoice is not filled, leave the fees attributes blank. \n",
    "Translate any non-English text to English. \n",
    "Organize and return the extracted data in a JSON format with the following keys:\n",
    "{\n",
    "    \"InvoiceDetails\":{\n",
    "        \"invoiceNum\": \"\",\n",
    "        \"date\": \"\",\n",
    "        \"billToAddress\": \"\",\n",
    "        \"city\": \"\",\n",
    "        \"state\": \"\",\n",
    "        \"zipCode\": \"\",\n",
    "        \"phone\": \"\",\n",
    "        \"email\":\"\"\n",
    "    },\n",
    "    \"items\":[{\n",
    "        \"ItemDescription\": \"\",\n",
    "        \"quantity\": \"\",\n",
    "        \"unitPrice\": \"\",\n",
    "        \"amount\": \"\",\n",
    "    }\n",
    "    ],\n",
    "    \"total\": \"\",\n",
    "    \"currency\": \"\"\n",
    "  }\n",
    "\"\"\" \n",
    "\n"
   ]
  },
  {
   "cell_type": "code",
   "execution_count": null,
   "id": "proved-music",
   "metadata": {},
   "outputs": [],
   "source": [
    "def invoke_claude_3_multimodal(prompt, base64_image_data):\n",
    "    request_body = {\n",
    "        \"anthropic_version\": \"bedrock-2023-05-31\",\n",
    "        \"max_tokens\": 2048,\n",
    "        \"messages\": [\n",
    "            {\n",
    "                \"role\": \"user\",\n",
    "                \"content\": [\n",
    "                    {\n",
    "                        \"type\": \"text\",\n",
    "                        \"text\": prompt,\n",
    "                    },\n",
    "                    {\n",
    "                        \"type\": \"image\",\n",
    "                        \"source\": {\n",
    "                            \"type\": \"base64\",\n",
    "                            \"media_type\": \"image/png\",\n",
    "                            \"data\": base64_image_data,\n",
    "                        },\n",
    "                    },\n",
    "                ],\n",
    "            }\n",
    "        ],\n",
    "    }\n",
    "\n",
    "    try:\n",
    "        response = bedrock.invoke_model(modelId=MODEL_ID, body=json.dumps(request_body))\n",
    "        return json.loads(response['body'].read())\n",
    "    except bedrock.exceptions.ClientError as err:\n",
    "        print(f\"Couldn't invoke Claude 3 Sonnet. Here's why: {err.response['Error']['Code']}: {err.response['Error']['Message']}\")\n",
    "        raise\n"
   ]
  },
  {
   "cell_type": "code",
   "execution_count": null,
   "id": "ancient-elephant",
   "metadata": {},
   "outputs": [],
   "source": []
  }
 ],
 "metadata": {
  "kernelspec": {
   "display_name": "Python 3 (ipykernel)",
   "language": "python",
   "name": "python3"
  },
  "language_info": {
   "codemirror_mode": {
    "name": "ipython",
    "version": 3
   },
   "file_extension": ".py",
   "mimetype": "text/x-python",
   "name": "python",
   "nbconvert_exporter": "python",
   "pygments_lexer": "ipython3",
   "version": "3.9.12"
  }
 },
 "nbformat": 4,
 "nbformat_minor": 5
}
